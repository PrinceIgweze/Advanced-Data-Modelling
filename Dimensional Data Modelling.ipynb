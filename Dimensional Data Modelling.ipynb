{
 "cells": [
  {
   "cell_type": "markdown",
   "id": "48b1217b-548f-4a35-a521-fc02531d8e3c",
   "metadata": {},
   "source": [
    "## Data Warehouse\n",
    "\n",
    "Rules\n",
    "- Integrated: Contains data from several sources\n",
    "- Subject Oriented: Data organized by subject\n",
    "- Time Variant: Contains historical data\n",
    "- Non Volatile: The warehouse stays as is even as thousands of transactions are occuring in the transactional systems"
   ]
  },
  {
   "cell_type": "markdown",
   "id": "afa2436d-dc8f-4778-aac3-01b5c7dcc407",
   "metadata": {},
   "source": [
    "## Data Warhousing Architecture"
   ]
  },
  {
   "cell_type": "markdown",
   "id": "bd75329d-db12-4dc0-9ac6-2f1eda26bc66",
   "metadata": {},
   "source": [
    "Centralized Data Warehouse: A centralized data warehouse is a single, unified repository that consolidates data from various sources into one central location. This architecture is designed to support business intelligence (BI) and analytics by providing a consistent and comprehensive view of organizational data.\n",
    " - Single databsase\n",
    " - One stop location for analytics"
   ]
  },
  {
   "cell_type": "markdown",
   "id": "3d119617-d9c6-4ba5-bf08-8187803ab375",
   "metadata": {},
   "source": [
    "Component-Based Data Warehouse: A component-based data warehouse refers to a data warehousing architecture that utilizes modular components or services to build and manage the warehouse. This approach emphasizes flexibility, scalability, and the ability to integrate various data sources and technologies"
   ]
  },
  {
   "cell_type": "markdown",
   "id": "5ddcb56b-6ed4-4061-a65a-9a55e3ed18ca",
   "metadata": {},
   "source": [
    "Operational Data Store: An Operational Data Store (ODS) is a database designed to integrate data from multiple sources for additional operations on the data. It serves as a central repository for current, operational data and is often used for real-time or near-real-time decision-making and reporting."
   ]
  },
  {
   "cell_type": "markdown",
   "id": "f52ddb18-44f4-4373-aef7-ba418e8c2913",
   "metadata": {},
   "source": [
    "Staging Layer: This is like the \"Landing Zone\" from the source application. Critical part of the extraction in the ETL process. Getting the data as quickly as possible from the source application. "
   ]
  },
  {
   "cell_type": "markdown",
   "id": "9c117c14-42c0-4abd-bb1e-8b345062ad38",
   "metadata": {},
   "source": [
    "User Access Layer: This is where the user goes and has access to. Dimensional modelling takes place in the user access layer "
   ]
  },
  {
   "cell_type": "code",
   "execution_count": null,
   "id": "e061aff4-1ca8-430a-8eb4-c94cd375eaad",
   "metadata": {},
   "outputs": [],
   "source": []
  }
 ],
 "metadata": {
  "kernelspec": {
   "display_name": "Python 3 (ipykernel)",
   "language": "python",
   "name": "python3"
  },
  "language_info": {
   "codemirror_mode": {
    "name": "ipython",
    "version": 3
   },
   "file_extension": ".py",
   "mimetype": "text/x-python",
   "name": "python",
   "nbconvert_exporter": "python",
   "pygments_lexer": "ipython3",
   "version": "3.12.4"
  }
 },
 "nbformat": 4,
 "nbformat_minor": 5
}
